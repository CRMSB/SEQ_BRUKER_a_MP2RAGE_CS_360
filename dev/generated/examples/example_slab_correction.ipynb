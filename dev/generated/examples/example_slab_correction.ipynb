{
 "cells": [
  {
   "cell_type": "markdown",
   "source": [
    "# Slab correction"
   ],
   "metadata": {}
  },
  {
   "cell_type": "markdown",
   "source": [
    "## Description\n",
    "\n",
    "This example describes how to correct the slab profile excitation produced by a non ideal excitation RF pulse"
   ],
   "metadata": {}
  },
  {
   "cell_type": "markdown",
   "source": [
    "## Loading Package"
   ],
   "metadata": {}
  },
  {
   "outputs": [],
   "cell_type": "code",
   "source": [
    "using LazyArtifacts # loading data\n",
    "using SEQ_BRUKER_a_MP2RAGE_CS_360\n",
    "using CairoMakie # plotting"
   ],
   "metadata": {},
   "execution_count": null
  },
  {
   "cell_type": "markdown",
   "source": [
    "## Download the datasets\n",
    "if you run the literate example offline run the following line by : `MP2_artifacts = artifact\"MP2RAGE_data\""
   ],
   "metadata": {}
  },
  {
   "outputs": [],
   "cell_type": "code",
   "source": [
    "datadir = Main.MP2_artifacts\n",
    "\n",
    "@info \"The test data is located at $datadir.\""
   ],
   "metadata": {},
   "execution_count": null
  },
  {
   "cell_type": "markdown",
   "source": [
    "If you want to perform your own reconstruction, you can change the following line in order to point to another a bruker dataset"
   ],
   "metadata": {}
  },
  {
   "outputs": [],
   "cell_type": "code",
   "source": [
    "path_sinc = joinpath(datadir, \"sinc10H\")\n",
    "path_hermite = joinpath(datadir, \"hermite\")"
   ],
   "metadata": {},
   "execution_count": null
  },
  {
   "cell_type": "markdown",
   "source": [
    "## Perform the standard reconstruction\n",
    "First, let's reconstruct 2 acquisitions performs on the same animal. One with a sinc10H excitation pulse and the second with an hermite pulse"
   ],
   "metadata": {}
  },
  {
   "outputs": [],
   "cell_type": "code",
   "source": [
    "d_hermite = reconstruction_MP2RAGE(path_hermite; mean_NR=true)\n",
    "d_sinc = reconstruction_MP2RAGE(path_sinc; mean_NR=true)\n",
    "\n",
    "begin\n",
    "  sl = 48\n",
    "  f = Figure(size=(600,200))\n",
    "  ax=Axis(f[1,1],title=\"sinc10H\")\n",
    "  h=heatmap!(ax,d_sinc[\"MP2RAGE\"][:,sl,:,1],colormap=:grays)\n",
    "  arrows2d!(ax,(48,85),(20,0),color=:red)\n",
    "\n",
    "  ax=Axis(f[1,2],title=\"hermite\")\n",
    "  h=heatmap!(ax,d_hermite[\"MP2RAGE\"][:,sl,:,1],colormap=:grays)\n",
    "  arrows2d!(ax,(48,85),(20,0),color=:red)\n",
    "\n",
    "  ax=Axis(f[1,3],title=\"diff\")\n",
    "  h=heatmap!(ax,(d_sinc[\"MP2RAGE\"] .- d_hermite[\"MP2RAGE\"])[:,sl,:,1],colormap=:grays,colorrange = (-0.1,0.1))\n",
    "  arrows2d!(ax,(48,85),(20,0),color=:red)\n",
    "  arrows2d!(ax,(48,15),(20,0),color=:green)\n",
    "\n",
    "  for ax in f.content   # hide decoration befor adding colorbar\n",
    "    hidedecorations!(ax)\n",
    "  end\n",
    "  Colorbar(f[1,4],h,)\n",
    "  f\n",
    "end"
   ],
   "metadata": {},
   "execution_count": null
  },
  {
   "cell_type": "markdown",
   "source": [
    "You can observe a signal homogeneity along the top to bottom axis.\n",
    "This is especially visible onto the difference between the two images.\n",
    "The pattern is visible at the top (red arrow) and at the bottom (green arrow)"
   ],
   "metadata": {}
  },
  {
   "cell_type": "markdown",
   "source": [
    "## Artefact explanation : slab excitation profile\n",
    "This artefact can be explained by the slab excitation profile of the RF pulse.\n",
    "In the next figure we will show the effective angle of excitation along the slice orientation. (corresponding to the Y axis on the previous figure)."
   ],
   "metadata": {}
  },
  {
   "outputs": [],
   "cell_type": "code",
   "source": [
    "using SEQ_BRUKER_a_MP2RAGE_CS_360.MRIFiles\n",
    "profile_sinc = extract_slab_profile(BrukerFile(path_sinc))\n",
    "profile_hermite= extract_slab_profile(BrukerFile(path_hermite))\n",
    "\n",
    "begin\n",
    "  f = Figure(size=(500,400))\n",
    "  ax=Axis(f[1,1],title=\"sinc10H\",xlabel=\"partition position\", ylabel=\"Effective angle (degrees)\")\n",
    "  ax.xticks=[1,8,25,50,75,89,96]\n",
    "  lines!(ax,profile_sinc)\n",
    "  vlines!(ax,8,color=:green,linestyle=:dash)\n",
    "  vlines!(ax,96-8+1,color=:green,linestyle=:dash)\n",
    "\n",
    "  hlines!(ax,7,color=:red,linestyle=:dash)\n",
    "  ax=Axis(f[2,1],title=\"hermite\",xlabel=\"partition position\", ylabel=\"Effective angle (degrees)\")\n",
    "  ax.xticks=[1,25,50,75,96]\n",
    "  lines!(ax,profile_hermite)\n",
    "  hlines!(ax,7,color=:red,linestyle=:dash)\n",
    "\n",
    "  f\n",
    "end"
   ],
   "metadata": {},
   "execution_count": null
  },
  {
   "cell_type": "markdown",
   "source": [
    "As you can see the sinc10H reach the expected angle of 7 degrees after 8 partitions/voxels but in the hermite case we observe a large oscillation.\n",
    "This is this effect that creates the differences on the MP2RAGE image."
   ],
   "metadata": {}
  },
  {
   "cell_type": "markdown",
   "source": [
    "## Correction of the slab profile"
   ],
   "metadata": {}
  },
  {
   "cell_type": "markdown",
   "source": [
    "Knowing the shape of the RF pulse, we are able to correct this effect when computing the T1 maps from the MP2RAGE images.\n",
    "To do so, for each position along the partition, we will generate a different lookuptable with the correct effective angle and compute the T1 map for this partition.\n",
    "To enable the slab correction, you can pass the keyword `slab_correction=true`"
   ],
   "metadata": {}
  },
  {
   "outputs": [],
   "cell_type": "code",
   "source": [
    "d_hermite_corr = reconstruction_MP2RAGE(path_hermite; mean_NR=true, slab_correction = true)\n",
    "d_sinc_corr = reconstruction_MP2RAGE(path_sinc; mean_NR=true, slab_correction = true)\n",
    "\n",
    "begin\n",
    "  T1range = (1000,2000)\n",
    "  f = Figure(size=(600,400))\n",
    "\n",
    "  ax=Axis(f[1,1],title=\"sinc10H\")\n",
    "  h=heatmap!(ax,d_sinc[\"T1map\"][:,sl,:,1],colorrange = T1range)\n",
    "\n",
    "  ax=Axis(f[1,2],title=\"hermite\")\n",
    "  h=heatmap!(ax,d_hermite[\"T1map\"][:,sl,:,1],colorrange = T1range)\n",
    "  arrows2d!(ax,(48,85),(20,0),color=:red)\n",
    "\n",
    "  ax=Axis(f[2,1],title=\"sinc10H\")\n",
    "  h=heatmap!(ax,d_sinc_corr[\"T1map\"][:,sl,:,1],colorrange = T1range)\n",
    "\n",
    "  ax=Axis(f[2,2],title=\"hermite\")\n",
    "  hT1=heatmap!(ax,d_hermite_corr[\"T1map\"][:,sl,:,1],colorrange = T1range)\n",
    "\n",
    "  ax=Axis(f[1,4],title=\"diff\")\n",
    "  h=heatmap!(ax,d_sinc[\"T1map\"][:,sl,:,1]-d_hermite[\"T1map\"][:,sl,:,1],colormap=:grays,colorrange=(-100,100))\n",
    "\n",
    "  ax=Axis(f[2,4],title=\"diff corrected\")\n",
    "  h=heatmap!(ax,d_sinc_corr[\"T1map\"][:,sl,:,1]-d_hermite_corr[\"T1map\"][:,sl,:,1],colormap=:grays,colorrange=(-100,100))\n",
    "\n",
    "  for ax in f.content   # hide decoration befor adding colorbar\n",
    "    hidedecorations!(ax)\n",
    "  end\n",
    "  Colorbar(f[:,3],hT1,label = \"T₁ [ms]\", flip_vertical_label=true)\n",
    "  Colorbar(f[:,5],h,label = \"ΔT₁ [ms]\", flip_vertical_label=true)\n",
    "\n",
    "  Label(f[1,-1], \"Initial\", rotation = pi/2)\n",
    "  Label(f[2,-1], \"Corrected\", rotation = pi/2)\n",
    "\n",
    "  rowsize!(f.layout,1,100)\n",
    "  rowsize!(f.layout,2,100)\n",
    "  colgap!(f.layout,1,0)\n",
    "  colsize!(f.layout,0,0)\n",
    "  f\n",
    "end"
   ],
   "metadata": {},
   "execution_count": null
  },
  {
   "cell_type": "markdown",
   "source": [
    "The MP2RAGE images are also corrected during this process. They are computed from the corrected T1 map using the expected flip angles."
   ],
   "metadata": {}
  },
  {
   "outputs": [],
   "cell_type": "code",
   "source": [
    "begin\n",
    "  T1range = (-0.5,0.5)\n",
    "  f = Figure(size=(600,400))\n",
    "\n",
    "  ax=Axis(f[1,1],title=\"sinc10H\")\n",
    "  h=heatmap!(ax,d_sinc[\"MP2RAGE\"][:,sl,:,1],colormap=:grays,colorrange = T1range)\n",
    "\n",
    "  ax=Axis(f[1,2],title=\"hermite\")\n",
    "  h=heatmap!(ax,d_hermite[\"MP2RAGE\"][:,sl,:,1],colormap=:grays,colorrange = T1range)\n",
    "  arrows2d!(ax,(48,85),(20,0),color=:red)\n",
    "\n",
    "  ax=Axis(f[2,1],title=\"sinc10H\")\n",
    "  h=heatmap!(ax,d_sinc_corr[\"MP2RAGE\"][:,sl,:,1],colormap=:grays,colorrange = T1range)\n",
    "\n",
    "  ax=Axis(f[2,2],title=\"hermite\")\n",
    "  hT1=heatmap!(ax,d_hermite_corr[\"MP2RAGE\"][:,sl,:,1],colormap=:grays,colorrange = T1range)\n",
    "\n",
    "  ax=Axis(f[1,4],title=\"diff\")\n",
    "  h=heatmap!(ax,d_sinc[\"MP2RAGE\"][:,sl,:,1]-d_hermite[\"MP2RAGE\"][:,sl,:,1],colormap=:grays,colorrange=(-0.1,0.1))\n",
    "\n",
    "  ax=Axis(f[2,4],title=\"diff corrected\")\n",
    "  h=heatmap!(ax,d_sinc_corr[\"MP2RAGE\"][:,sl,:,1]-d_hermite_corr[\"MP2RAGE\"][:,sl,:,1],colormap=:grays,colorrange=(-0.1,0.1))\n",
    "\n",
    "  for ax in f.content   # hide decoration befor adding colorbar\n",
    "    hidedecorations!(ax)\n",
    "  end\n",
    "  Colorbar(f[1:2,3],hT1,label = \"MP2RAGE [ms]\", flip_vertical_label=true)\n",
    "  Colorbar(f[1:2,5],h,label = \"Δ MP2RAGE [ms]\", flip_vertical_label=true)\n",
    "\n",
    "  Label(f[1,-1], \"Initial\", rotation = pi/2)\n",
    "  Label(f[2,-1], \"Corrected\", rotation = pi/2)\n",
    "\n",
    "  rowsize!(f.layout,1,100)\n",
    "  rowsize!(f.layout,2,100)\n",
    "  colgap!(f.layout,1,0)\n",
    "  colsize!(f.layout,0,0)\n",
    "  f\n",
    "end"
   ],
   "metadata": {},
   "execution_count": null
  },
  {
   "cell_type": "markdown",
   "source": [
    "Unfortunetly, the corecction can't be applied on TI1 and TI2 because proton density ρ and T₂ star and B₁- effects are not known."
   ],
   "metadata": {}
  },
  {
   "cell_type": "markdown",
   "source": [
    "---\n",
    "\n",
    "*This notebook was generated using [Literate.jl](https://github.com/fredrikekre/Literate.jl).*"
   ],
   "metadata": {}
  }
 ],
 "nbformat_minor": 3,
 "metadata": {
  "language_info": {
   "file_extension": ".jl",
   "mimetype": "application/julia",
   "name": "julia",
   "version": "1.11.6"
  },
  "kernelspec": {
   "name": "julia-1.11",
   "display_name": "Julia 1.11.6",
   "language": "julia"
  }
 },
 "nbformat": 4
}
