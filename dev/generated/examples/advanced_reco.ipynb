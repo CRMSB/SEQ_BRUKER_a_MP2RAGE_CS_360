{
 "cells": [
  {
   "cell_type": "markdown",
   "source": [
    "# Compressed-sensing reconstruction"
   ],
   "metadata": {}
  },
  {
   "cell_type": "markdown",
   "source": [
    "## Description\n",
    "\n",
    "This example describes how to perform a compressed-sensingreconstruction of a CS-2 accelerated acquisition."
   ],
   "metadata": {}
  },
  {
   "cell_type": "markdown",
   "source": [
    "## Loading Package"
   ],
   "metadata": {}
  },
  {
   "outputs": [],
   "cell_type": "code",
   "source": [
    "using LazyArtifacts # loading data\n",
    "using SEQ_BRUKER_a_MP2RAGE_CS_360\n",
    "using CairoMakie # plotting"
   ],
   "metadata": {},
   "execution_count": null
  },
  {
   "cell_type": "markdown",
   "source": [
    "In addition we load the package internally used to perform the reconstruction"
   ],
   "metadata": {}
  },
  {
   "outputs": [],
   "cell_type": "code",
   "source": [
    "using SEQ_BRUKER_a_MP2RAGE_CS_360.MRIReco\n",
    "using SEQ_BRUKER_a_MP2RAGE_CS_360.MRIReco.RegularizedLeastSquares"
   ],
   "metadata": {},
   "execution_count": null
  },
  {
   "cell_type": "markdown",
   "source": [
    "## Download the datasets\n",
    "if you run the literate example offline change the following line by : `MP2_artifacts = artifact\"MP2RAGE_data\""
   ],
   "metadata": {}
  },
  {
   "outputs": [],
   "cell_type": "code",
   "source": [
    "datadir = Main.MP2_artifacts\n",
    "@info \"The test data is located at $datadir.\""
   ],
   "metadata": {},
   "execution_count": null
  },
  {
   "cell_type": "markdown",
   "source": [
    "If you want to perform your own reconstruction, you can change the following line in order to point to another a bruker dataset"
   ],
   "metadata": {}
  },
  {
   "outputs": [],
   "cell_type": "code",
   "source": [
    "path_bruker = joinpath(datadir, \"MP2RAGE_CS2\")"
   ],
   "metadata": {},
   "execution_count": null
  },
  {
   "cell_type": "markdown",
   "source": [
    "## Compressed-sensing reconstruction\n",
    "In order to use an advanced reconstruction we will pass some parameters that will be used by the reconstruction package MRIReco.jl"
   ],
   "metadata": {}
  },
  {
   "cell_type": "markdown",
   "source": [
    "We have to create a parameter dictionnary that will be used. If you need more information about it take a look at [MRIReco.jl](https://github.com/MagneticResonanceImaging/MRIReco.jl)"
   ],
   "metadata": {}
  },
  {
   "outputs": [],
   "cell_type": "code",
   "source": [
    "CS = Dict{Symbol,Any}()\n",
    "CS[:sparseTrafo] = \"Wavelet\" #sparse trafo\n",
    "CS[:reg] = L1Regularization(100.)       # regularization\n",
    "CS[:solver] = FISTA    # solver\n",
    "CS[:iterations] = 30\n",
    "\n",
    "d = reconstruction_MP2RAGE(path_bruker; mean_NR=true,paramsCS = CS)"
   ],
   "metadata": {},
   "execution_count": null
  },
  {
   "cell_type": "markdown",
   "source": [
    "for comparison purposes let's perform the undersampled reconstruction (without the paramCS keyword)"
   ],
   "metadata": {}
  },
  {
   "outputs": [],
   "cell_type": "code",
   "source": [
    "d_under = reconstruction_MP2RAGE(path_bruker; mean_NR=true)"
   ],
   "metadata": {},
   "execution_count": null
  },
  {
   "cell_type": "markdown",
   "source": [
    "We can check the results"
   ],
   "metadata": {}
  },
  {
   "outputs": [],
   "cell_type": "code",
   "source": [
    "begin\n",
    "  f = Figure(size=(500,400))\n",
    "  ax=Axis(f[1,1],title=\"TI₁ undersampled\")\n",
    "  h=heatmap!(ax,abs.(d_under[\"im_reco\"][:,:,60,1,1]),colormap=:grays)\n",
    "\n",
    "  ax=Axis(f[1,2],title=\"TI₁ CS\")\n",
    "  h=heatmap!(ax,abs.(d[\"im_reco\"][:,:,60,1,1]),colormap=:grays)\n",
    "\n",
    "\n",
    "  ax=Axis(f[2,1],title=\"T₁ map undersampled\")\n",
    "  h=heatmap!(ax,d_under[\"T1map\"][:,:,60,1],colorrange = (500,2000))\n",
    "\n",
    "  ax=Axis(f[2,2],title=\"T₁ map CS\")\n",
    "  h=heatmap!(ax,d[\"T1map\"][:,:,60,1],colorrange = (500,2000))\n",
    "\n",
    "  for ax in f.content   # hide decoration befor adding colorbar\n",
    "    hidedecorations!(ax)\n",
    "  end\n",
    "\n",
    "  Colorbar(f[2,3],h,label = \"T₁ [ms]\", flip_vertical_label=true)\n",
    "  f\n",
    "end"
   ],
   "metadata": {},
   "execution_count": null
  },
  {
   "cell_type": "markdown",
   "source": [
    "## Write results in BIDS format\n",
    "Results can be written following most of the [qBIDS format recommandation](https://bids-specification.readthedocs.io/en/stable/appendices/qmri.html)"
   ],
   "metadata": {}
  },
  {
   "outputs": [],
   "cell_type": "code",
   "source": [
    "subject_name = \"sub_01_cs\"\n",
    "dir_path = \"\" # directory path where the files will be create\n",
    "write_bids_MP2RAGE(d,subject_name,dir_path)"
   ],
   "metadata": {},
   "execution_count": null
  },
  {
   "cell_type": "markdown",
   "source": [
    "---\n",
    "\n",
    "*This notebook was generated using [Literate.jl](https://github.com/fredrikekre/Literate.jl).*"
   ],
   "metadata": {}
  }
 ],
 "nbformat_minor": 3,
 "metadata": {
  "language_info": {
   "file_extension": ".jl",
   "mimetype": "application/julia",
   "name": "julia",
   "version": "1.11.6"
  },
  "kernelspec": {
   "name": "julia-1.11",
   "display_name": "Julia 1.11.6",
   "language": "julia"
  }
 },
 "nbformat": 4
}
