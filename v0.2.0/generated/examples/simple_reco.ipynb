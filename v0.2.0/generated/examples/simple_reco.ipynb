{
 "cells": [
  {
   "cell_type": "markdown",
   "source": [
    "# Simple reconstruction"
   ],
   "metadata": {}
  },
  {
   "cell_type": "markdown",
   "source": [
    "## Description\n",
    "\n",
    "This example describes how to perform a reconstruction of a fully acquisition acquired with the a_MP2RAGE_CS_360 sequence."
   ],
   "metadata": {}
  },
  {
   "cell_type": "markdown",
   "source": [
    "## Loading Package"
   ],
   "metadata": {}
  },
  {
   "outputs": [],
   "cell_type": "code",
   "source": [
    "using LazyArtifacts # loading data\n",
    "using SEQ_BRUKER_a_MP2RAGE_CS_360\n",
    "using CairoMakie # plotting"
   ],
   "metadata": {},
   "execution_count": null
  },
  {
   "cell_type": "markdown",
   "source": [
    "## Download the datasets\n",
    "if you run the literate example offline change the following line by : `MP2_artifacts = artifact\"MP2RAGE_data\""
   ],
   "metadata": {}
  },
  {
   "outputs": [],
   "cell_type": "code",
   "source": [
    "datadir = Main.MP2_artifacts\n",
    "@info \"The test data is located at $datadir.\""
   ],
   "metadata": {},
   "execution_count": null
  },
  {
   "cell_type": "markdown",
   "source": [
    "If you want to perform your own reconstruction, you can change the following line in order to point to another a bruker dataset"
   ],
   "metadata": {}
  },
  {
   "outputs": [],
   "cell_type": "code",
   "source": [
    "path_bruker = joinpath(datadir, \"MP2RAGE_FULLY\")"
   ],
   "metadata": {},
   "execution_count": null
  },
  {
   "cell_type": "markdown",
   "source": [
    "## Perform the reconstruction\n",
    "this function will perform a standard reconstruction without compressed-sensing. If your data are subsampled it will result in subsampling artifacts (blurring + noise-like)\n",
    "\n",
    "the keyword mean_NR=true will average the images accross the number of repetition dimension before performing the MP2RAGE/T1 maps estimation.\n",
    "Otherwise an image/T₁ map will be generated for each Number Of Repetition (NR)"
   ],
   "metadata": {}
  },
  {
   "outputs": [],
   "cell_type": "code",
   "source": [
    "d = reconstruction_MP2RAGE(path_bruker; mean_NR=true)"
   ],
   "metadata": {},
   "execution_count": null
  },
  {
   "cell_type": "markdown",
   "source": [
    "the result is a dictionnary with the following fields :\n",
    "- \"im_reco\" : (x,y,z, Number of Repetition,TI) Complex\n",
    "- \"MP2RAGE\" : (x,y,z , Number of Repetition) Float\n",
    "- \"T1map\" : (x,y,z , Number of Repetition) Float\n",
    "- \"params_prot\"\n",
    "- \"params_reco\"\n",
    "- \"params_MP2RAGE\"\n",
    "\n",
    "im_reco corresponds to the TI₁ and TI₂ images in the complex format with 5 dimensions :\n",
    "(x,y,z , Number of Repetition,TI). Channels are combined during the reconstruction"
   ],
   "metadata": {}
  },
  {
   "cell_type": "markdown",
   "source": [
    "We can check the results"
   ],
   "metadata": {}
  },
  {
   "outputs": [],
   "cell_type": "code",
   "source": [
    "begin\n",
    "  f = Figure(size=(500,400))\n",
    "  ax=Axis(f[1,1],title=\"TI₁\")\n",
    "  h=heatmap!(ax,abs.(d[\"im_reco\"][:,:,60,1,1]),colormap=:grays)\n",
    "\n",
    "  ax=Axis(f[1,2],title=\"TI₂\")\n",
    "  h=heatmap!(ax,abs.(d[\"im_reco\"][:,:,60,1,2]),colormap=:grays)\n",
    "\n",
    "  ax=Axis(f[2,1],title=\"UNIT1 / MP2RAGE\")\n",
    "  h=heatmap!(ax,d[\"MP2RAGE\"][:,:,60,1],colormap=:grays)\n",
    "\n",
    "  ax=Axis(f[2,2],title=\"T₁ map\")\n",
    "  h=heatmap!(ax,d[\"T1map\"][:,:,60,1],colorrange = (500,2000))\n",
    "\n",
    "  for ax in f.content   # hide decoration befor adding colorbar\n",
    "    hidedecorations!(ax)\n",
    "  end\n",
    "\n",
    "  Colorbar(f[2,3],h,label = \"T₁ [ms]\", flip_vertical_label=true)\n",
    "  f\n",
    "end"
   ],
   "metadata": {},
   "execution_count": null
  },
  {
   "cell_type": "markdown",
   "source": [
    "The Lookup table used for the reconstruction is stored in the dictionnary (LUT).\n",
    "First dimension is the range of T1 and the 2nd is the expected value of the MP2RAGE signal between -0.5 to 0.5."
   ],
   "metadata": {}
  },
  {
   "outputs": [],
   "cell_type": "code",
   "source": [
    "f=Figure()\n",
    "ax = Axis(f[1,1],xlabel=\"T₁ [ms]\")\n",
    "lines!(ax,d[\"LUT\"])\n",
    "f"
   ],
   "metadata": {},
   "execution_count": null
  },
  {
   "cell_type": "markdown",
   "source": [
    "## Write results in BIDS format\n",
    "Results can be written following most of the [qBIDS format recommandation](https://bids-specification.readthedocs.io/en/stable/appendices/qmri.html)"
   ],
   "metadata": {}
  },
  {
   "outputs": [],
   "cell_type": "code",
   "source": [
    "subject_name = \"sub_01\"\n",
    "dir_path = \"\" # directory path where the files will be create\n",
    "write_bids_MP2RAGE(d,subject_name,dir_path)"
   ],
   "metadata": {},
   "execution_count": null
  },
  {
   "cell_type": "markdown",
   "source": [
    "which results in :\n",
    "```\n",
    "sub_01/\n",
    "├─ MP2RAGE.json\n",
    "└─ anat/\n",
    "   ├─ sub_01_T1map.nii.gz\n",
    "   ├─ sub_01_UNIT1.nii.gz\n",
    "   ├─ sub_01_inv-1-complex_MP2RAGE.nii.gz\n",
    "   ├─ sub_01_inv-1-mag_MP2RAGE.nii.gz\n",
    "   ├─ sub_01_inv-1-phase_MP2RAGE.nii.gz\n",
    "   ├─ sub_01_inv-2-complex_MP2RAGE.nii.gz\n",
    "   ├─ sub_01_inv-2-mag_MP2RAGE.nii.gz\n",
    "   └─ sub_01_inv-2-phase_MP2RAGE.nii.gz\n",
    "```\n",
    "\n",
    "For simplicity the T₁ map is stored in the anat/ folder like the ones created by Siemens.\n",
    "\n",
    "If you want to generate the T1 map with another tool like qMRLab\n",
    "the required MP2RAGE parameters are stored in the **MP2RAGE.json** file. In that case the data are supposed to be stored in a derivatives folder (see[qBIDS format recommandation](https://bids-specification.readthedocs.io/en/stable/appendices/qmri.html))"
   ],
   "metadata": {}
  },
  {
   "cell_type": "markdown",
   "source": [
    "---\n",
    "\n",
    "*This notebook was generated using [Literate.jl](https://github.com/fredrikekre/Literate.jl).*"
   ],
   "metadata": {}
  }
 ],
 "nbformat_minor": 3,
 "metadata": {
  "language_info": {
   "file_extension": ".jl",
   "mimetype": "application/julia",
   "name": "julia",
   "version": "1.11.6"
  },
  "kernelspec": {
   "name": "julia-1.11",
   "display_name": "Julia 1.11.6",
   "language": "julia"
  }
 },
 "nbformat": 4
}
